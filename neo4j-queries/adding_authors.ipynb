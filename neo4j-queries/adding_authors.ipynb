{
 "cells": [
  {
   "cell_type": "code",
   "execution_count": null,
   "id": "f0afe6ca",
   "metadata": {},
   "outputs": [],
   "source": [
    "# Add a single author from OpenAlex\n",
    "call apoc.load.json(\"https://api.openalex.org/authors/https://orcid.org/0000-0002-1298-3089\") yield value\n",
    "MERGE (a:Author {name: value.display_name}) on create set a.id = value.id, a.works = value.works_count\n",
    "return a"
   ]
  },
  {
   "cell_type": "code",
   "execution_count": null,
   "id": "de736984",
   "metadata": {},
   "outputs": [],
   "source": [
    "# Adds the first 200 authors from OpenAlex\n",
    "call apoc.load.json(\"https://api.openalex.org/authors?per-page=200&page=1\") yield value\n",
    "unwind value.results as authors\n",
    "MERGE (a:Author {id: authors.id}) on create set a.name = authors.display_name, a.works = authors.works_count\n",
    "return a"
   ]
  },
  {
   "cell_type": "code",
   "execution_count": null,
   "id": "beb22cc1",
   "metadata": {},
   "outputs": [],
   "source": [
    "# Normal authors: https://api.openalex.org/authors?per-page=200&page=1\n",
    "# GT affiliated authors: \n",
    "# https://api.openalex.org/authors?per-page=100&page=1&filter=last_known_institution.ror:https://ror.org/01zkghx44"
   ]
  }
 ],
 "metadata": {
  "kernelspec": {
   "display_name": "Python 3 (ipykernel)",
   "language": "python",
   "name": "python3"
  },
  "language_info": {
   "codemirror_mode": {
    "name": "ipython",
    "version": 3
   },
   "file_extension": ".py",
   "mimetype": "text/x-python",
   "name": "python",
   "nbconvert_exporter": "python",
   "pygments_lexer": "ipython3",
   "version": "3.10.9"
  }
 },
 "nbformat": 4,
 "nbformat_minor": 5
}
