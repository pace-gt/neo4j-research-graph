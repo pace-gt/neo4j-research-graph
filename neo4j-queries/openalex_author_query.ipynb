{
 "cells": [
  {
   "cell_type": "code",
   "execution_count": 1,
   "metadata": {},
   "outputs": [],
   "source": [
    "# Returns the result of an OpenAlex query for the given name.\n",
    "import requests\n",
    "import json\n",
    "\n",
    "def search(author):\n",
    "    URL = \"https://api.openalex.org/authors?search=\" + author\n",
    "    authors = requests.get(URL).json()['results']\n",
    "    count = 1\n",
    "    for author in authors:\n",
    "        if count > 1:\n",
    "            print(\"\\n\")\n",
    "        print(\"** AUTHOR \" + str(count) + \" **\")\n",
    "        print('display_name: ' + author['display_name'])\n",
    "        for data in author:\n",
    "            if not (data == 'display_name'):\n",
    "                print(str(data) + \": \" + str(author[data]))\n",
    "        count += 1"
   ]
  },
  {
   "cell_type": "code",
   "execution_count": 2,
   "metadata": {},
   "outputs": [
    {
     "name": "stdout",
     "output_type": "stream",
     "text": [
      "** AUTHOR 1 **\n",
      "display_name: Didier Contis\n",
      "id: https://openalex.org/A5081084337\n",
      "orcid: https://orcid.org/0000-0002-5811-5682\n",
      "display_name_alternatives: ['D. Contis', 'Didier Contis']\n",
      "relevance_score: 3029.6904\n",
      "works_count: 8\n",
      "cited_by_count: 252\n",
      "summary_stats: {'2yr_mean_citedness': 0.0, 'h_index': 5, 'i10_index': 5}\n",
      "ids: {'openalex': 'https://openalex.org/A5081084337', 'orcid': 'https://orcid.org/0000-0002-5811-5682', 'scopus': 'http://www.scopus.com/inward/authorDetails.url?authorID=12546000900&partnerID=MN8TOARS'}\n",
      "last_known_institution: {'id': 'https://openalex.org/I130701444', 'ror': 'https://ror.org/01zkghx44', 'display_name': 'Georgia Institute of Technology', 'country_code': 'US', 'type': 'education', 'lineage': ['https://openalex.org/I1289702989', 'https://openalex.org/I130701444']}\n",
      "x_concepts: [{'id': 'https://openalex.org/C41008148', 'wikidata': 'https://www.wikidata.org/wiki/Q21198', 'display_name': 'Computer science', 'level': 0, 'score': 100.0}, {'id': 'https://openalex.org/C111919701', 'wikidata': 'https://www.wikidata.org/wiki/Q9135', 'display_name': 'Operating system', 'level': 1, 'score': 75.0}, {'id': 'https://openalex.org/C127413603', 'wikidata': 'https://www.wikidata.org/wiki/Q11023', 'display_name': 'Engineering', 'level': 0, 'score': 62.5}, {'id': 'https://openalex.org/C149635348', 'wikidata': 'https://www.wikidata.org/wiki/Q193040', 'display_name': 'Embedded system', 'level': 1, 'score': 50.0}, {'id': 'https://openalex.org/C154945302', 'wikidata': 'https://www.wikidata.org/wiki/Q11660', 'display_name': 'Artificial intelligence', 'level': 1, 'score': 50.0}, {'id': 'https://openalex.org/C199360897', 'wikidata': 'https://www.wikidata.org/wiki/Q9143', 'display_name': 'Programming language', 'level': 1, 'score': 50.0}, {'id': 'https://openalex.org/C2777904410', 'wikidata': 'https://www.wikidata.org/wiki/Q7397', 'display_name': 'Software', 'level': 2, 'score': 50.0}, {'id': 'https://openalex.org/C17744445', 'wikidata': 'https://www.wikidata.org/wiki/Q36442', 'display_name': 'Political science', 'level': 0, 'score': 37.5}, {'id': 'https://openalex.org/C31258907', 'wikidata': 'https://www.wikidata.org/wiki/Q1301371', 'display_name': 'Computer network', 'level': 1, 'score': 37.5}, {'id': 'https://openalex.org/C33923547', 'wikidata': 'https://www.wikidata.org/wiki/Q395', 'display_name': 'Mathematics', 'level': 0, 'score': 37.5}, {'id': 'https://openalex.org/C38652104', 'wikidata': 'https://www.wikidata.org/wiki/Q3510521', 'display_name': 'Computer security', 'level': 1, 'score': 37.5}, {'id': 'https://openalex.org/C79974875', 'wikidata': 'https://www.wikidata.org/wiki/Q483639', 'display_name': 'Cloud computing', 'level': 2, 'score': 37.5}, {'id': 'https://openalex.org/C199539241', 'wikidata': 'https://www.wikidata.org/wiki/Q7748', 'display_name': 'Law', 'level': 1, 'score': 37.5}, {'id': 'https://openalex.org/C513985346', 'wikidata': 'https://www.wikidata.org/wiki/Q270471', 'display_name': 'Virtualization', 'level': 3, 'score': 37.5}, {'id': 'https://openalex.org/C9390403', 'wikidata': 'https://www.wikidata.org/wiki/Q3966', 'display_name': 'Computer hardware', 'level': 1, 'score': 25.0}, {'id': 'https://openalex.org/C35525427', 'wikidata': 'https://www.wikidata.org/wiki/Q745881', 'display_name': 'Intrusion detection system', 'level': 2, 'score': 25.0}, {'id': 'https://openalex.org/C42935608', 'wikidata': 'https://www.wikidata.org/wiki/Q190411', 'display_name': 'Field-programmable gate array', 'level': 2, 'score': 25.0}, {'id': 'https://openalex.org/C47878483', 'wikidata': 'https://www.wikidata.org/wiki/Q848333', 'display_name': 'Full virtualization', 'level': 4, 'score': 25.0}, {'id': 'https://openalex.org/C67953723', 'wikidata': 'https://www.wikidata.org/wiki/Q192525', 'display_name': 'Workstation', 'level': 2, 'score': 25.0}, {'id': 'https://openalex.org/C76155785', 'wikidata': 'https://www.wikidata.org/wiki/Q418', 'display_name': 'Telecommunications', 'level': 1, 'score': 25.0}, {'id': 'https://openalex.org/C78519656', 'wikidata': 'https://www.wikidata.org/wiki/Q101333', 'display_name': 'Mechanical engineering', 'level': 1, 'score': 25.0}, {'id': 'https://openalex.org/C121332964', 'wikidata': 'https://www.wikidata.org/wiki/Q413', 'display_name': 'Physics', 'level': 0, 'score': 25.0}, {'id': 'https://openalex.org/C121684516', 'wikidata': 'https://www.wikidata.org/wiki/Q7600677', 'display_name': 'Computer graphics (images)', 'level': 1, 'score': 25.0}, {'id': 'https://openalex.org/C124101348', 'wikidata': 'https://www.wikidata.org/wiki/Q172491', 'display_name': 'Data mining', 'level': 1, 'score': 25.0}, {'id': 'https://openalex.org/C162324750', 'wikidata': 'https://www.wikidata.org/wiki/Q8134', 'display_name': 'Economics', 'level': 0, 'score': 25.0}]\n",
      "counts_by_year: [{'year': 2023, 'works_count': 0, 'cited_by_count': 2}, {'year': 2022, 'works_count': 0, 'cited_by_count': 3}, {'year': 2021, 'works_count': 0, 'cited_by_count': 8}, {'year': 2020, 'works_count': 0, 'cited_by_count': 10}, {'year': 2019, 'works_count': 1, 'cited_by_count': 10}, {'year': 2018, 'works_count': 1, 'cited_by_count': 12}, {'year': 2017, 'works_count': 1, 'cited_by_count': 10}, {'year': 2016, 'works_count': 1, 'cited_by_count': 8}, {'year': 2015, 'works_count': 0, 'cited_by_count': 15}, {'year': 2014, 'works_count': 0, 'cited_by_count': 14}, {'year': 2013, 'works_count': 0, 'cited_by_count': 13}, {'year': 2012, 'works_count': 0, 'cited_by_count': 11}]\n",
      "works_api_url: https://api.openalex.org/works?filter=author.id:A5081084337\n",
      "updated_date: 2023-09-11T00:04:54.387866\n",
      "created_date: 2023-07-21\n"
     ]
    }
   ],
   "source": [
    "search(\"Didier Contis\")"
   ]
  }
 ],
 "metadata": {
  "kernelspec": {
   "display_name": "summer",
   "language": "python",
   "name": "python3"
  },
  "language_info": {
   "codemirror_mode": {
    "name": "ipython",
    "version": 3
   },
   "file_extension": ".py",
   "mimetype": "text/x-python",
   "name": "python",
   "nbconvert_exporter": "python",
   "pygments_lexer": "ipython3",
   "version": "3.11.5"
  },
  "orig_nbformat": 4
 },
 "nbformat": 4,
 "nbformat_minor": 2
}
